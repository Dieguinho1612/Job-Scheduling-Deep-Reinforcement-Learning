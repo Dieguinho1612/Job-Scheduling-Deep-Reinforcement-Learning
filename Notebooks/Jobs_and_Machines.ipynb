{
 "cells": [
  {
   "cell_type": "markdown",
   "id": "450c34f3",
   "metadata": {},
   "source": [
    "# Classes of Jobs and Machines"
   ]
  },
  {
   "cell_type": "markdown",
   "id": "fd3907ad",
   "metadata": {},
   "source": [
    "## Description of Notebook\n",
    "In this Notebook we will create the Classes of Jobs and Machines for the Job Scheduling Problem in the deterministic case."
   ]
  },
  {
   "cell_type": "markdown",
   "id": "d0356f2d",
   "metadata": {},
   "source": [
    "## Code"
   ]
  },
  {
   "cell_type": "code",
   "execution_count": null,
   "id": "7129c77b",
   "metadata": {},
   "outputs": [],
   "source": [
    "#import dependencies\n",
    "import operator\n",
    "import pickle"
   ]
  },
  {
   "cell_type": "markdown",
   "id": "2b0dccd8",
   "metadata": {},
   "source": [
    "### Machines"
   ]
  },
  {
   "cell_type": "markdown",
   "id": "a32aaee0",
   "metadata": {},
   "source": [
    "We define the class of machines.<br>\n",
    "Every machine only consists of the information of its deadline, the belonging penalty weight if this deadline should be exceeded and the running time at which it is initiated<br>"
   ]
  },
  {
   "cell_type": "code",
   "execution_count": null,
   "id": "b3a725bf",
   "metadata": {},
   "outputs": [],
   "source": [
    "class machines:\n",
    "    def __init__(self, init_runtime, deadline, weight):\n",
    "        self.number = None\n",
    "        self.index = None\n",
    "        self.init_runtime = init_runtime\n",
    "        self.deadline = deadline\n",
    "        self.weight = weight"
   ]
  },
  {
   "cell_type": "markdown",
   "id": "017db1e9",
   "metadata": {},
   "source": [
    "We want to sort them by their weights in descending order. In case of equal weights, they get sorted by the shorter deadline.\n",
    "We then give every machine an index, so they are easier to call later on.<br>\n",
    "They will also receive a number, which is just the index increased by one, so the reader does not get confused with starting to count at zero when looking at plots and other types of visualizations."
   ]
  },
  {
   "cell_type": "code",
   "execution_count": null,
   "id": "da12802a",
   "metadata": {},
   "outputs": [],
   "source": [
    "#prepare machines by sorting and indexing them\n",
    "def prep_machines(list_machines, name=\"list_machines\", save=False, prnt=False):\n",
    "    \n",
    "    #sort machines for weights in descending order or by the shorter deadline in case of equal weights\n",
    "    list_machines.sort(key=operator.attrgetter('deadline'))\n",
    "    list_machines.sort(key=(operator.attrgetter('weight')), reverse=True)\n",
    "    \n",
    "    #give them a number and an index so they can be recognized more easily\n",
    "    for i, machine in enumerate(list_machines):\n",
    "        machine.index = i\n",
    "        machine.number = i+1\n",
    "        #print them to show the new order\n",
    "        if prnt:\n",
    "            print(f\"Machine {machine.number}: Initial Runtime {machine.init_runtime} | Deadline {machine.deadline} | Weight {machine.weight}\")\n",
    "    \n",
    "    #save list of machines\n",
    "    if save:\n",
    "        with open(f'{name}.pickle', 'wb') as f:\n",
    "            pickle.dump(list_machines, f, pickle.HIGHEST_PROTOCOL)\n",
    "    \n",
    "    return(list_machines)"
   ]
  },
  {
   "cell_type": "markdown",
   "id": "e85a4faf",
   "metadata": {},
   "source": [
    "### Jobs"
   ]
  },
  {
   "cell_type": "markdown",
   "id": "9866c51f",
   "metadata": {},
   "source": [
    "We now define the class of Jobs.<br>\n",
    "Similiar to the machines, every job contains the information of its deadline and the belonging penalty weight if this deadline should be exceeded.<br>\n",
    "In addition, it also needs a list of processing times, with each entry indicating how long the indexed machine needs to process this job."
   ]
  },
  {
   "cell_type": "code",
   "execution_count": null,
   "id": "6989aabc",
   "metadata": {},
   "outputs": [],
   "source": [
    "class jobs:\n",
    "    def __init__(self,processing_time, deadline, weight):\n",
    "        self.number = None\n",
    "        self.index = None\n",
    "        self.processing_time = processing_time\n",
    "        self.deadline = deadline\n",
    "        self.weight = weight"
   ]
  },
  {
   "cell_type": "markdown",
   "id": "4a7596d1",
   "metadata": {},
   "source": [
    "Again, we will sort them by their weight in descending order (or by their deadline in case of equal weights), as well as index them and give them a number (equal to the index increased by one)."
   ]
  },
  {
   "cell_type": "code",
   "execution_count": null,
   "id": "a2e74dda",
   "metadata": {},
   "outputs": [],
   "source": [
    "#prepare jobs by sorting and indexing them\n",
    "def prep_jobs(list_jobs, name=\"list_jobs\", save=False, prnt=False):\n",
    "    \n",
    "    #sort jobs for weights in descending order or by their deadline in case of equal weights\n",
    "    list_jobs.sort(key=operator.attrgetter('deadline'))\n",
    "    list_jobs.sort(key=operator.attrgetter('weight'), reverse=True)\n",
    "    \n",
    "    #give them a number and an index so they can be recognized more easily\n",
    "    for i, job in enumerate(list_jobs):\n",
    "        job.index = i\n",
    "        job.number = i+1\n",
    "        #print them to show the new order\n",
    "        if prnt:\n",
    "            print(f\"Job {job.number}: Processing Times {job.processing_time} | Deadline {job.deadline} | Weight {job.weight}\")\n",
    "        \n",
    "    #save list of jobs\n",
    "    if save:\n",
    "        with open(f'{name}.pickle', 'wb') as f:\n",
    "            pickle.dump(list_jobs, f, pickle.HIGHEST_PROTOCOL)\n",
    "    \n",
    "    return(list_jobs)"
   ]
  }
 ],
 "metadata": {
  "kernelspec": {
   "display_name": "Python 3 (ipykernel)",
   "language": "python",
   "name": "python3"
  },
  "language_info": {
   "codemirror_mode": {
    "name": "ipython",
    "version": 3
   },
   "file_extension": ".py",
   "mimetype": "text/x-python",
   "name": "python",
   "nbconvert_exporter": "python",
   "pygments_lexer": "ipython3",
   "version": "3.10.5"
  }
 },
 "nbformat": 4,
 "nbformat_minor": 5
}
