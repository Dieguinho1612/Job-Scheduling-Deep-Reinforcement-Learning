{
 "cells": [
  {
   "cell_type": "markdown",
   "id": "99657105",
   "metadata": {},
   "source": [
    "# Script to run Data Creation"
   ]
  },
  {
   "cell_type": "markdown",
   "id": "9849edb5",
   "metadata": {},
   "source": [
    "## Notebook Description"
   ]
  },
  {
   "cell_type": "markdown",
   "id": "71926d35",
   "metadata": {},
   "source": [
    "We need data to train, evaluate and test the Neural Network.<br>\n",
    "This Script can be run on its own or be used on a cluster to create the necessary data sets.<br>\n",
    "In this case, the <i>input</i> values might have to be replaced with the desired values within the code.<br>\n",
    "To create <i>N</i> Job Scheduling Problems and their associated Data, this Notebook has to be run <i>N</i> times, always with a different index <i>DN</i> for the corresponding Data. "
   ]
  },
  {
   "cell_type": "markdown",
   "id": "e81ed69b",
   "metadata": {},
   "source": [
    "## Code"
   ]
  },
  {
   "cell_type": "code",
   "execution_count": null,
   "id": "56890315",
   "metadata": {},
   "outputs": [],
   "source": [
    "import sys\n",
    "import os\n",
    "import pickle\n",
    "import random\n",
    "import import_ipynb\n",
    "import Jobs_and_Machines\n",
    "from Jobs_and_Machines import *"
   ]
  },
  {
   "cell_type": "markdown",
   "id": "6d294ffc",
   "metadata": {},
   "source": [
    "### Create Random Problem Environment and list of Jobs and Machines"
   ]
  },
  {
   "cell_type": "markdown",
   "id": "5d8f0326",
   "metadata": {},
   "source": [
    "We have to set some hyperparameters to define the environment for which we want to simulate Job Scheduling Problems to then extract the desired data from them."
   ]
  },
  {
   "cell_type": "code",
   "execution_count": null,
   "id": "74a2e10d",
   "metadata": {},
   "outputs": [],
   "source": [
    "#numbers of Jobs Network has initially been trained on\n",
    "n = 8\n",
    "#numbers of Machines\n",
    "m = 4\n",
    "#maximum allowed weight\n",
    "max_weight = 10\n",
    "#maximum allowed deadline\n",
    "max_deadline = 30"
   ]
  },
  {
   "cell_type": "markdown",
   "id": "61dba386",
   "metadata": {},
   "source": [
    "Set these global so that other notebooks can access them."
   ]
  },
  {
   "cell_type": "code",
   "execution_count": null,
   "id": "9a381d86",
   "metadata": {},
   "outputs": [],
   "source": [
    "import Global_Variables\n",
    "\n",
    "#create dictionary of all constant variables of this problem environment\n",
    "list_var = ['n', 'm', 'max_deadline', 'max_weight']\n",
    "dict_var = dict((var,eval(var)) for var in list_var)\n",
    "#pass them as global variables, so that imported notebooks can access them\n",
    "Global_Variables.set_var_to_global(dict_var)"
   ]
  },
  {
   "cell_type": "code",
   "execution_count": null,
   "id": "45a5d01e",
   "metadata": {
    "scrolled": true
   },
   "outputs": [],
   "source": [
    "import Scheduling_Decisions\n",
    "from Scheduling_Decisions import *"
   ]
  },
  {
   "cell_type": "markdown",
   "id": "49443403",
   "metadata": {},
   "source": [
    "Create Random Environment and List of Jobs and Machines."
   ]
  },
  {
   "cell_type": "code",
   "execution_count": null,
   "id": "c9aaabf5",
   "metadata": {},
   "outputs": [],
   "source": [
    "create_JS_environment()"
   ]
  },
  {
   "cell_type": "markdown",
   "id": "f79da11b",
   "metadata": {},
   "source": [
    "### Set Indices for Data"
   ]
  },
  {
   "cell_type": "markdown",
   "id": "462af9b9",
   "metadata": {},
   "source": [
    "Some indices to organize the storage of the data.<br>\n",
    "98 is used for validation set, 99 for training set."
   ]
  },
  {
   "cell_type": "code",
   "execution_count": null,
   "id": "73d57e58",
   "metadata": {},
   "outputs": [],
   "source": [
    "DS = input('What is the index of your Data Set?\\n')"
   ]
  },
  {
   "cell_type": "markdown",
   "id": "9d8d5651",
   "metadata": {},
   "source": [
    "Every Data Set consists of many Data."
   ]
  },
  {
   "cell_type": "code",
   "execution_count": null,
   "id": "a74a5a4d",
   "metadata": {},
   "outputs": [],
   "source": [
    "DN = input('What is the index of your Data?\\n')"
   ]
  },
  {
   "cell_type": "markdown",
   "id": "5feec0c6",
   "metadata": {},
   "source": [
    "In our case, we had 10.000 Datas per Data Set. For Dataset <i>DS</i>, the indices <i>DN</i> went from (10.000 * DS) to (10.000 * DS + 9999) "
   ]
  },
  {
   "cell_type": "markdown",
   "id": "9aeb40de",
   "metadata": {},
   "source": [
    "### Compute All States"
   ]
  },
  {
   "cell_type": "code",
   "execution_count": null,
   "id": "7def00ea",
   "metadata": {},
   "outputs": [],
   "source": [
    "from States_and_Policies import *"
   ]
  },
  {
   "cell_type": "code",
   "execution_count": null,
   "id": "833face9",
   "metadata": {},
   "outputs": [],
   "source": [
    "all_states = compute_all_states(list_jobs, list_machines)"
   ]
  },
  {
   "cell_type": "markdown",
   "id": "582046a5",
   "metadata": {},
   "source": [
    "### Extract and save Data"
   ]
  },
  {
   "cell_type": "code",
   "execution_count": null,
   "id": "5e00d90d",
   "metadata": {},
   "outputs": [],
   "source": [
    "from Data_for_NN import *"
   ]
  },
  {
   "cell_type": "markdown",
   "id": "976a68a2",
   "metadata": {},
   "source": [
    "We have to define how many states we want to transform into data points for every <i>(n_state,m_state,action a is optimal)</i>-combination.<br>\n",
    "We used the value <i>100</i>."
   ]
  },
  {
   "cell_type": "code",
   "execution_count": null,
   "id": "ad257e4f",
   "metadata": {},
   "outputs": [],
   "source": [
    "#number of data points we want to have for every (n_state,m_state,action a is optimal)-combination\n",
    "data_points_max = int(input(\"Maximum number of states for every subset-combination?\\n\")) #we used 100"
   ]
  },
  {
   "cell_type": "code",
   "execution_count": null,
   "id": "a5ae7064",
   "metadata": {},
   "outputs": [],
   "source": [
    "#shuffle states\n",
    "random.shuffle(all_states)"
   ]
  },
  {
   "cell_type": "code",
   "execution_count": null,
   "id": "da5e7092",
   "metadata": {},
   "outputs": [],
   "source": [
    "#98 is used for validation, 99 for test set\n",
    "if DS == '98' or DS == '99':\n",
    "    training = False\n",
    "else:\n",
    "    training = True"
   ]
  },
  {
   "cell_type": "code",
   "execution_count": null,
   "id": "b1bd69ca",
   "metadata": {},
   "outputs": [],
   "source": [
    "#create and extract data\n",
    "store_data(all_states, data_points_max, DS, DN, training=training)"
   ]
  }
 ],
 "metadata": {
  "kernelspec": {
   "display_name": "Python 3 (ipykernel)",
   "language": "python",
   "name": "python3"
  },
  "language_info": {
   "codemirror_mode": {
    "name": "ipython",
    "version": 3
   },
   "file_extension": ".py",
   "mimetype": "text/x-python",
   "name": "python",
   "nbconvert_exporter": "python",
   "pygments_lexer": "ipython3",
   "version": "3.10.5"
  }
 },
 "nbformat": 4,
 "nbformat_minor": 5
}
