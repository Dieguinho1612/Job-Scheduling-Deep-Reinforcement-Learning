{
 "cells": [
  {
   "cell_type": "markdown",
   "id": "9849edb5",
   "metadata": {},
   "source": [
    "# Notebook Description"
   ]
  },
  {
   "cell_type": "markdown",
   "id": "71926d35",
   "metadata": {},
   "source": [
    "We want to compare the costs of the schedules produced by different scheduling rules. These can be induced by our Neural Networks, the heuristic scheduling algorithm or the optimal schedule.<br>\n",
    "This Script can be run on its own or be used on a cluster to achieve significant numbers of comparisions.<br>\n",
    "In this case, the <i>input</i> values might have to be replaced with the desired values within the code.<br>\n",
    "The results will be printed out."
   ]
  },
  {
   "cell_type": "markdown",
   "id": "e81ed69b",
   "metadata": {},
   "source": [
    "# Code"
   ]
  },
  {
   "cell_type": "code",
   "execution_count": null,
   "id": "56890315",
   "metadata": {},
   "outputs": [],
   "source": [
    "import sys\n",
    "import os\n",
    "import pickle\n",
    "import random\n",
    "import import_ipynb\n",
    "import Jobs_and_Machines\n",
    "from Jobs_and_Machines import *"
   ]
  },
  {
   "cell_type": "markdown",
   "id": "6d294ffc",
   "metadata": {},
   "source": [
    "### Create set of conditions for Job Scheduling Problems"
   ]
  },
  {
   "cell_type": "markdown",
   "id": "5d8f0326",
   "metadata": {},
   "source": [
    "We have to set some hyperparameters to define the environment for which we want to simulate Job Scheduling Problems to then compare the associated created schedules. Since we might want to compare for different numbers of Jobs and Machines, these can be given as lists."
   ]
  },
  {
   "cell_type": "code",
   "execution_count": null,
   "id": "6992aab5",
   "metadata": {},
   "outputs": [],
   "source": [
    "#list of numbers of Jobs\n",
    "n_list = input(\"What are the numbers of Jobs?\\n\").split(\",\") #example: 3,6,80,100\n",
    "#list of numbers of Machines\n",
    "m_list = input(\"What are the numbers of Machines?\\n\").split(\",\") #example: 2,4,8\n",
    "#maximum allowed weight\n",
    "max_weight = 10\n",
    "#maximum allowed deadline\n",
    "max_deadline = 30"
   ]
  },
  {
   "cell_type": "markdown",
   "id": "cdd04d8a",
   "metadata": {},
   "source": [
    "Set these global so that other notebooks can access them."
   ]
  },
  {
   "cell_type": "code",
   "execution_count": null,
   "id": "00e2279d",
   "metadata": {},
   "outputs": [],
   "source": [
    "import Global_Variables\n",
    "\n",
    "#create dictionary of all constant variables of this problem environment\n",
    "list_var = ['max_deadline', 'max_weight']\n",
    "dict_var = dict((var,eval(var)) for var in list_var)\n",
    "#pass them as global variables, so that imported notebooks can access them\n",
    "Global_Variables.set_var_to_global(dict_var)"
   ]
  },
  {
   "cell_type": "code",
   "execution_count": null,
   "id": "dba2863d",
   "metadata": {},
   "outputs": [],
   "source": [
    "import Scheduling_Decisions\n",
    "from Scheduling_Decisions import *"
   ]
  },
  {
   "cell_type": "markdown",
   "id": "0ec542b0",
   "metadata": {},
   "source": [
    "### Load Neural Networks"
   ]
  },
  {
   "cell_type": "markdown",
   "id": "7a1ec8dc",
   "metadata": {},
   "source": [
    "We load these Neural Networks that we want to use."
   ]
  },
  {
   "cell_type": "code",
   "execution_count": null,
   "id": "ceddfa21",
   "metadata": {},
   "outputs": [],
   "source": [
    "NN_path = input(\"What is the path of the Neural Networks?\\n\")"
   ]
  },
  {
   "cell_type": "markdown",
   "id": "22902090",
   "metadata": {},
   "source": [
    "The one we will definitely use is the supervisedly trained Network."
   ]
  },
  {
   "cell_type": "code",
   "execution_count": null,
   "id": "e0e65c49",
   "metadata": {},
   "outputs": [],
   "source": [
    "Sup_Tar_NN = load_NN('Neural_Network',NN_path)"
   ]
  },
  {
   "cell_type": "markdown",
   "id": "33afbba7",
   "metadata": {},
   "source": [
    "Optionally, we can also load one of the Uptrained Neural Networks."
   ]
  },
  {
   "cell_type": "code",
   "execution_count": null,
   "id": "57bf059d",
   "metadata": {},
   "outputs": [],
   "source": [
    "use_uptr = input(\"Do you want to use an Uptrained version of the Neural Network?\\n If so, type \\\"yes\\\": \")\n",
    "if use_uptr == \"yes\":\n",
    "    print(\"\")\n",
    "    n_estim = input(\"What is the number of Jobs up to which it has been trained?\\n\")\n",
    "    Uptr_Tar_NN = load_NN(f'Uptrained_Neural_Network_{n_estim}_Jobs',NN_path)\n",
    "else:\n",
    "    Uptr_Tar_NN = None"
   ]
  },
  {
   "cell_type": "markdown",
   "id": "4fdc2159",
   "metadata": {},
   "source": [
    "### Create Random Environment and list of Jobs and Machines"
   ]
  },
  {
   "cell_type": "markdown",
   "id": "49443403",
   "metadata": {},
   "source": [
    "Create Random Environments and lists of Jobs and Machines."
   ]
  },
  {
   "cell_type": "code",
   "execution_count": null,
   "id": "a2dfaa7a",
   "metadata": {},
   "outputs": [],
   "source": [
    "num_schedules = int(input(\"How many Job Scheduling Problems shall be compared for each constellation of Job and Machine numbers?\\n\"))"
   ]
  },
  {
   "cell_type": "markdown",
   "id": "7101538f",
   "metadata": {},
   "source": [
    "To compare schedules, we have the following options:\n",
    "\n",
    "| option ||||| meaning |\n",
    "| :---: | --- | --- | --- | --- | :---: |\n",
    "| comp_opt_pol ||||| Do we want to compute the optimal policy? |\n",
    "| always_comp_opt_end ||||| Do we only want to use the version of the scheduling algorith with the optimal end computed or do we want both? |\n",
    "| use_uptr_tar_NN ||||| Do we want to usa an uptrained target Network (from estimated data of higher job numbers) as well? |"
   ]
  },
  {
   "cell_type": "code",
   "execution_count": null,
   "id": "125c1ee1",
   "metadata": {},
   "outputs": [],
   "source": [
    "for n in n_list:\n",
    "    n = increase_n(int(n))\n",
    "    for m in m_list:\n",
    "        m = increase_m(int(m))\n",
    "        compare_schedules(Uptr_Tar_NN, Sup_Tar_NN, num_schedules, comp_opt_pol=False, always_comp_opt_end=True, use_uptr_tar_NN=False)"
   ]
  }
 ],
 "metadata": {
  "kernelspec": {
   "display_name": "Python 3 (ipykernel)",
   "language": "python",
   "name": "python3"
  },
  "language_info": {
   "codemirror_mode": {
    "name": "ipython",
    "version": 3
   },
   "file_extension": ".py",
   "mimetype": "text/x-python",
   "name": "python",
   "nbconvert_exporter": "python",
   "pygments_lexer": "ipython3",
   "version": "3.10.5"
  }
 },
 "nbformat": 4,
 "nbformat_minor": 5
}
