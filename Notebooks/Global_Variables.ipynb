{
 "cells": [
  {
   "cell_type": "markdown",
   "id": "22bf55b0",
   "metadata": {},
   "source": [
    "# Global Variables"
   ]
  },
  {
   "cell_type": "markdown",
   "id": "784f5c2a",
   "metadata": {},
   "source": [
    "## Description of Notebook"
   ]
  },
  {
   "cell_type": "markdown",
   "id": "4b88b656",
   "metadata": {},
   "source": [
    "This is a dummy notebook to save global variables that remain constant throughout a Job Scheduling Problem.<br>\n",
    "In specific, these are:\n"
   ]
  },
  {
   "cell_type": "markdown",
   "id": "723ad85f",
   "metadata": {},
   "source": [
    "| variable ||||| meaning |\n",
    "| :---: | --- | --- | --- | --- | :---: |\n",
    "|list_jobs|||||list of all Jobs |\n",
    "|list_machines|||||list of all Machines|\n",
    "|n|||||number of Jobs|\n",
    "|m|||||number of Machines|\n",
    "|max_init_runtime|||||maximum initial Machine occupation time|\n",
    "|max_runtime|||||maximum processing time of Job on Machine|\n",
    "|max_deadline|||||maximum Job and Machine deadline|\n",
    "|max_weight|||||maximum Job and Machine weight|"
   ]
  },
  {
   "cell_type": "markdown",
   "id": "98163016",
   "metadata": {},
   "source": [
    "## Code"
   ]
  },
  {
   "cell_type": "code",
   "execution_count": null,
   "id": "18b179eb",
   "metadata": {},
   "outputs": [],
   "source": [
    "import import_ipynb\n",
    "from Jobs_and_Machines import *"
   ]
  },
  {
   "cell_type": "code",
   "execution_count": null,
   "id": "e3abf3f6",
   "metadata": {},
   "outputs": [],
   "source": [
    "#add variable to set of global variables\n",
    "def set_var_to_global(dict_of_var):\n",
    "    \n",
    "    global_variables = globals()\n",
    "    global_variables.update(dict_of_var)"
   ]
  },
  {
   "cell_type": "code",
   "execution_count": null,
   "id": "216b9843",
   "metadata": {},
   "outputs": [],
   "source": [
    "#update all these (global) variables in another jupyter notebook\n",
    "def change_global_var_of_module(module):\n",
    "    module.n = n\n",
    "    module.m = m\n",
    "    module.max_weight = max_weight\n",
    "    module.max_deadline = max_deadline\n",
    "    module.max_runtime = max_runtime\n",
    "    module.max_init_runtime = max_init_runtime\n",
    "    module.list_jobs = list_jobs\n",
    "    module.list_machines = list_machines"
   ]
  }
 ],
 "metadata": {
  "kernelspec": {
   "display_name": "Python 3 (ipykernel)",
   "language": "python",
   "name": "python3"
  },
  "language_info": {
   "codemirror_mode": {
    "name": "ipython",
    "version": 3
   },
   "file_extension": ".py",
   "mimetype": "text/x-python",
   "name": "python",
   "nbconvert_exporter": "python",
   "pygments_lexer": "ipython3",
   "version": "3.10.5"
  }
 },
 "nbformat": 4,
 "nbformat_minor": 5
}
