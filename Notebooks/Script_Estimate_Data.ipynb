{
 "cells": [
  {
   "cell_type": "markdown",
   "id": "99657105",
   "metadata": {},
   "source": [
    "# Script to estimate Data"
   ]
  },
  {
   "cell_type": "markdown",
   "id": "9849edb5",
   "metadata": {},
   "source": [
    "## Notebook Description"
   ]
  },
  {
   "cell_type": "markdown",
   "id": "71926d35",
   "metadata": {},
   "source": [
    "We want to estimate data of Job Scheduling Problems of higher Job numbers.<br>\n",
    "This Script can be run on its own or be used on a cluster to create the necessary data sets.<br>\n",
    "In this case, the <i>input</i> values might have to be replaced with the desired values within the code."
   ]
  },
  {
   "cell_type": "markdown",
   "id": "e81ed69b",
   "metadata": {},
   "source": [
    "## Code"
   ]
  },
  {
   "cell_type": "code",
   "execution_count": null,
   "id": "56890315",
   "metadata": {},
   "outputs": [],
   "source": [
    "import sys\n",
    "import os\n",
    "import pickle\n",
    "import random\n",
    "import import_ipynb\n",
    "import Jobs_and_Machines\n",
    "from Jobs_and_Machines import *"
   ]
  },
  {
   "cell_type": "markdown",
   "id": "6d294ffc",
   "metadata": {},
   "source": [
    "### Create Random Problem Environment and list of Jobs and Machines"
   ]
  },
  {
   "cell_type": "markdown",
   "id": "5d8f0326",
   "metadata": {},
   "source": [
    "We have to set some hyperparameters to define the environment for which we want to simulate Job Scheduling Problems to then estimate the desired data from them."
   ]
  },
  {
   "cell_type": "code",
   "execution_count": null,
   "id": "6992aab5",
   "metadata": {},
   "outputs": [],
   "source": [
    "#numbers of Jobs to which we want to increase\n",
    "n = int(input(\"What is the new number of Jobs?\\n\"))\n",
    "#numbers of Machines\n",
    "m = 4\n",
    "#maximum allowed weight\n",
    "max_weight = 10\n",
    "#maximum allowed deadline\n",
    "max_deadline = 30"
   ]
  },
  {
   "cell_type": "markdown",
   "id": "cdd04d8a",
   "metadata": {},
   "source": [
    "Set these global so that other notebooks can access them."
   ]
  },
  {
   "cell_type": "code",
   "execution_count": null,
   "id": "00e2279d",
   "metadata": {},
   "outputs": [],
   "source": [
    "import Global_Variables\n",
    "\n",
    "#create dictionary of all constant variables of this problem environment\n",
    "list_var = ['n', 'm', 'max_deadline', 'max_weight']\n",
    "dict_var = dict((var,eval(var)) for var in list_var)\n",
    "#pass them as global variables, so that imported notebooks can access them\n",
    "Global_Variables.set_var_to_global(dict_var)"
   ]
  },
  {
   "cell_type": "markdown",
   "id": "49443403",
   "metadata": {},
   "source": [
    "Create Random Environment and List of Jobs and Machines."
   ]
  },
  {
   "cell_type": "code",
   "execution_count": null,
   "id": "6d966ec6",
   "metadata": {
    "scrolled": true
   },
   "outputs": [],
   "source": [
    "import Scheduling_Decisions\n",
    "from Scheduling_Decisions import *"
   ]
  },
  {
   "cell_type": "code",
   "execution_count": null,
   "id": "125c1ee1",
   "metadata": {},
   "outputs": [],
   "source": [
    "create_JS_environment()"
   ]
  },
  {
   "cell_type": "markdown",
   "id": "f3279c2d",
   "metadata": {},
   "source": [
    "### Set Indices for Data"
   ]
  },
  {
   "cell_type": "markdown",
   "id": "462af9b9",
   "metadata": {},
   "source": [
    "The path as well as the indice to store the estimated data."
   ]
  },
  {
   "cell_type": "code",
   "execution_count": null,
   "id": "77de7899",
   "metadata": {},
   "outputs": [],
   "source": [
    "path = input('What is the path?\\n')"
   ]
  },
  {
   "cell_type": "code",
   "execution_count": null,
   "id": "7eca322a",
   "metadata": {},
   "outputs": [],
   "source": [
    "DN = input('What is the index of your Data?\\n')"
   ]
  },
  {
   "cell_type": "markdown",
   "id": "4449ae39",
   "metadata": {},
   "source": [
    "### Load Target Networks"
   ]
  },
  {
   "cell_type": "markdown",
   "id": "0be424d9",
   "metadata": {},
   "source": [
    "We will use the supervisedly trained Neural Network as Target Network when 8 Jobs or less remain.<br>\n",
    "In the states that consist of more than 8 Jobs, the Uptrained Network from the previous iteration will be applied."
   ]
  },
  {
   "cell_type": "code",
   "execution_count": null,
   "id": "7bf3ec08",
   "metadata": {},
   "outputs": [],
   "source": [
    "NN_path = input(\"What is the path of the Neural Networks?\\n\")"
   ]
  },
  {
   "cell_type": "markdown",
   "id": "e5bb1af5",
   "metadata": {},
   "source": [
    "Load supervisedly trained Neural Network"
   ]
  },
  {
   "cell_type": "code",
   "execution_count": null,
   "id": "a104b87a",
   "metadata": {},
   "outputs": [],
   "source": [
    "Sup_Tar_NN = load_NN('Neural_Network',NN_path)"
   ]
  },
  {
   "cell_type": "markdown",
   "id": "5ca91387",
   "metadata": {},
   "source": [
    "If <i>n</i> > 9, the successor states will have at least 9 Jobs, in which case we need to load the Uptrained Network from the previous iteration of <i>n-1</i> Jobs."
   ]
  },
  {
   "cell_type": "code",
   "execution_count": null,
   "id": "27bcc8f2",
   "metadata": {},
   "outputs": [],
   "source": [
    "if n > 9:\n",
    "    Uptr_Tar_NN = load_NN(f'Uptrained_Neural_Network_{n-1}_Jobs',NN_path)\n",
    "else:\n",
    "    Uptr_Tar_NN = Sup_Tar_NN"
   ]
  },
  {
   "cell_type": "markdown",
   "id": "9aeb40de",
   "metadata": {},
   "source": [
    "### Estimate Data"
   ]
  },
  {
   "cell_type": "markdown",
   "id": "0089a3e5",
   "metadata": {},
   "source": [
    "How many Job Scheduling Problems shall be simulated to estimate their corresponding data?"
   ]
  },
  {
   "cell_type": "code",
   "execution_count": null,
   "id": "57408b9f",
   "metadata": {},
   "outputs": [],
   "source": [
    "num_data = int(input(\"How many Job Scheduling Problems?\\n\"))"
   ]
  },
  {
   "cell_type": "markdown",
   "id": "80eaf5c6",
   "metadata": {},
   "source": [
    "Create the states and estimate their data."
   ]
  },
  {
   "cell_type": "code",
   "execution_count": null,
   "id": "c784ec4f",
   "metadata": {},
   "outputs": [],
   "source": [
    "data_dictionary = create_estim_data(Uptr_Tar_NN, Sup_Tar_NN, num_data)"
   ]
  },
  {
   "cell_type": "markdown",
   "id": "255b97a8",
   "metadata": {},
   "source": [
    "Now, we only need to save this dictionary of estimated Data."
   ]
  },
  {
   "cell_type": "code",
   "execution_count": null,
   "id": "ac2e518d",
   "metadata": {},
   "outputs": [],
   "source": [
    "save_estim_dictionary(data_dictionary, path, data_ind)"
   ]
  }
 ],
 "metadata": {
  "kernelspec": {
   "display_name": "Python 3 (ipykernel)",
   "language": "python",
   "name": "python3"
  },
  "language_info": {
   "codemirror_mode": {
    "name": "ipython",
    "version": 3
   },
   "file_extension": ".py",
   "mimetype": "text/x-python",
   "name": "python",
   "nbconvert_exporter": "python",
   "pygments_lexer": "ipython3",
   "version": "3.10.5"
  }
 },
 "nbformat": 4,
 "nbformat_minor": 5
}
