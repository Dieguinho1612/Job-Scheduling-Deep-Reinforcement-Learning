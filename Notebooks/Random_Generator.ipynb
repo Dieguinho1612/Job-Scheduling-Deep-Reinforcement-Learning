{
 "cells": [
  {
   "cell_type": "markdown",
   "id": "3ade41f0",
   "metadata": {},
   "source": [
    "# Random Generator"
   ]
  },
  {
   "cell_type": "markdown",
   "id": "ad1bdcfc",
   "metadata": {},
   "source": [
    "## Notebook Description"
   ]
  },
  {
   "cell_type": "markdown",
   "id": "af1f3c2b",
   "metadata": {},
   "source": [
    "This Notebook shall randomly generate Jobs and Machines.<br>\n",
    "\n",
    "It randomly sets the environmental hyperparameters \n",
    "- max_runtime\n",
    "- max_init_runtime\n",
    "\n",
    "of the maximum permitted processing time of any Job on any Machine and the maximum permitted initial machine occupation time.<br>\n",
    "\n",
    "It then creates the Jobs and Machiines. The respective processing times, deadlines, weights and initial occupation times are uniformly sampled over the range from 0 or 1 until the maximum value defined by the respective environmental hyperparameter."
   ]
  },
  {
   "cell_type": "markdown",
   "id": "0b435727",
   "metadata": {},
   "source": [
    "## Code"
   ]
  },
  {
   "cell_type": "code",
   "execution_count": null,
   "id": "ac2b41b1",
   "metadata": {},
   "outputs": [],
   "source": [
    "import random\n",
    "import pickle\n",
    "import os\n",
    "import import_ipynb\n",
    "from Jobs_and_Machines import *\n",
    "from Global_Variables import *"
   ]
  },
  {
   "cell_type": "markdown",
   "id": "f143b705",
   "metadata": {},
   "source": [
    "### Create File of Hyperparameters"
   ]
  },
  {
   "cell_type": "markdown",
   "id": "53f08bda",
   "metadata": {},
   "source": [
    "For the case that several Job Scheduling Problems shall be created over the same set of hyperparameters."
   ]
  },
  {
   "cell_type": "code",
   "execution_count": null,
   "id": "9bcdd931",
   "metadata": {},
   "outputs": [],
   "source": [
    "#read hyperparameters of an already existing file\n",
    "def read_max_parameters(ind, prnt=False):\n",
    "    \n",
    "    parameters = []\n",
    "    \n",
    "    #set numbers consist of 4 digits for better organization in directory, so file 1 is file 0001\n",
    "    ind_str = \"0\"*(2-len(str(ind))) + str(ind)\n",
    "    \n",
    "    #open existing file of hyperparameters\n",
    "    with open(f'MaxValuesSets/MaxValues_{ind_str}/MaxValues_{ind_str}.txt', 'r') as f:\n",
    "        for line in f:\n",
    "            #every line is a hyperparameter\n",
    "            parameters.append(int(line.split(\" = \")[1]))\n",
    "            #if desired, print the hyperparameters\n",
    "            if prnt:\n",
    "                print(line.replace(\"\\n\",\"\"))\n",
    "        \n",
    "    return(parameters)"
   ]
  },
  {
   "cell_type": "code",
   "execution_count": null,
   "id": "0e8d6b14",
   "metadata": {},
   "outputs": [],
   "source": [
    "#we will define a set of maximal values/hyperparameters and save it as a file to create a list of jobs and machines later on\n",
    "def generate_max_values_sets(ind):\n",
    "    \n",
    "    #add zeros in front of index of file to store files more organizedly until 4 digits. File 1 becomes file 0001. \n",
    "    ind_str = \"0\"*(2-len(str(ind))) + str(ind)\n",
    "    \n",
    "    #check if required directories to save file containing hyperparameters exist already\n",
    "    if not os.path.exists('MaxValuesSets'):\n",
    "        os.mkdir('MaxValuesSets') #head directory to save all data related files\n",
    "    if not os.path.exists(f'MaxValuesSets/MaxValues_{ind_str}'):\n",
    "        os.mkdir(f'MaxValuesSets/MaxValues_{ind_str}') #one directory for every max values set environment\n",
    "    if not os.path.exists(f'MaxValuesSets/MaxValues_{ind_str}/Jobs_and_Machines_{ind_str}'): \n",
    "        os.mkdir(f'MaxValuesSets/MaxValues_{ind_str}/Jobs_and_Machines_{ind_str}') #directory for list of jobs and machines\n",
    "    if not os.path.exists(f'MaxValuesSets/MaxValues_{ind_str}/States_{ind_str}'):\n",
    "        os.mkdir(f'MaxValuesSets/MaxValues_{ind_str}/States_{ind_str}') #directory for all states\n",
    "    if not os.path.exists(f'MaxValuesSets/MaxValues_{ind_str}/Data_{ind_str}'):\n",
    "        os.mkdir(f'MaxValuesSets/MaxValues_{ind_str}/Data_{ind_str}') #directory for NN data created out of states\n",
    "    \n",
    "    #we check if max values set already exists\n",
    "    if os.path.exists(f'MaxValuesSets/MaxValues_{ind_str}/MaxValues_{ind_str}.txt'):\n",
    "        #check if they match, else raise an error\n",
    "        if [n,m,max_init_runtime,max_runtime,max_deadline,max_weight] != read_max_parameters(ind):\n",
    "            raise ValueError(f'Max Values Set {ind_str} already exists but does not match the given parameters!')\n",
    "    #otherwise, save all parameters \n",
    "    else:\n",
    "        text_to_save = f\"n = {n}\\\n",
    "        \\nm = {m}\\\n",
    "        \\nmax_init_runtime = {max_init_runtime}\\\n",
    "        \\nmax_runtime = {max_runtime}\\\n",
    "        \\nmax_deadline = {max_deadline}\\\n",
    "        \\nmax_weight = {max_weight}\"\n",
    "        #create .txt-file for parameters\n",
    "        with open(f'MaxValuesSets/MaxValues_{ind_str}/MaxValues_{ind_str}.txt', 'w') as f:\n",
    "            f.write(text_to_save)"
   ]
  },
  {
   "cell_type": "markdown",
   "id": "bf92fe5f",
   "metadata": {},
   "source": [
    "### Generate Random Jobs and Machines"
   ]
  },
  {
   "cell_type": "code",
   "execution_count": null,
   "id": "09bfa6bc",
   "metadata": {},
   "outputs": [],
   "source": [
    "#generate random initial machine occupation times\n",
    "def generate_random_init_runtimes(m, max_init_runtime):\n",
    "    \n",
    "    #generate random initial runtimes up to definied maximal vlaue\n",
    "    rand_init_runtimes = [random.randint(0,max_init_runtime) for i in range(m)]\n",
    "    #set one to zero to create the starting point for the Job Scheduling Problem\n",
    "    if 0 not in rand_init_runtimes:\n",
    "        rand_init_runtimes[random.randrange(m)] = 0\n",
    "        \n",
    "    return rand_init_runtimes"
   ]
  },
  {
   "cell_type": "code",
   "execution_count": null,
   "id": "9b7961f5",
   "metadata": {},
   "outputs": [],
   "source": [
    "#generate list of random machines\n",
    "def generate_random_machines(m, max_init_runtime, max_deadline, max_weight, prnt=False):\n",
    "    \n",
    "    #sample initial machine occupation times\n",
    "    rand_init_runtimes = generate_random_init_runtimes(m, max_init_runtime)\n",
    "    \n",
    "    #generate machines with random deadlines, weights and initial occupation times up to the defined maximal value\n",
    "    random_list_machines = [machines(rand_init_runtimes[i],\n",
    "                                     random.randint(0,max_deadline), \n",
    "                                     random.randint(1,max_weight))\n",
    "                            for i in range(m)]\n",
    "    \n",
    "    #appropietly prepare machines\n",
    "    if prnt:\n",
    "        #better readability\n",
    "        print(\"\")\n",
    "    #sort them accordingly\n",
    "    random_list_machines = prep_machines(random_list_machines, prnt=prnt)\n",
    "    \n",
    "    return random_list_machines"
   ]
  },
  {
   "cell_type": "code",
   "execution_count": null,
   "id": "c79200f5",
   "metadata": {},
   "outputs": [],
   "source": [
    "#generate list of random jobs\n",
    "def generate_random_jobs(n, m, max_runtime, max_deadline, max_weight, prnt=False):\n",
    "    \n",
    "    #generate jobs with random processing times, deadlines and weights up to the defined maximal value (processing time > 0)\n",
    "    random_list_jobs = [jobs([random.randint(1,max_runtime) for i in range(m)], \n",
    "                             random.randint(0,max_deadline), \n",
    "                             random.randint(1,max_weight)) \n",
    "                        for j in range(n)]\n",
    "    \n",
    "    #appropietly prepare jobs\n",
    "    if prnt:\n",
    "        #better readability\n",
    "        print(\"\")\n",
    "    #sort them accordingly\n",
    "    random_list_jobs = prep_jobs(random_list_jobs, prnt=prnt)\n",
    "    \n",
    "    return random_list_jobs"
   ]
  },
  {
   "cell_type": "markdown",
   "id": "4d174e7c",
   "metadata": {},
   "source": [
    "The following function generates a list of random Jobs and a list of random Machines.<br>\n",
    "It can be run with a saved file of hyperparameters or with a temporarily generated set of them within the subsequent function \"generate_random_environment\"."
   ]
  },
  {
   "cell_type": "code",
   "execution_count": null,
   "id": "744ea424",
   "metadata": {},
   "outputs": [],
   "source": [
    "#generate a random Job Scheduling Problem by randomly generating the jobs and machines\n",
    "def generate_random_JS(MVS, JS, prnt=False):\n",
    "    \n",
    "    #generate list of random machines with random initial runtimes\n",
    "    random_list_machines = generate_random_machines(m, max_init_runtime, max_deadline, max_weight, prnt=prnt)\n",
    "    #generate list of random jobs\n",
    "    random_list_jobs = generate_random_jobs (n, m, max_runtime, max_deadline, max_weight, prnt=prnt)\n",
    "    \n",
    "    #in case that a saved file of hyperparameters was used, also save the jobs and machines in a correspondingly indexed file\n",
    "    if type(MVS) == int and type(JS) == int:\n",
    "        #save the generated lists\n",
    "        MVS_str = \"0\"*(2-len(str(MVS))) + str(MVS)\n",
    "        JS_str = \"0\"*(4-len(str(JS))) + str(JS)\n",
    "        #path is indexed by the used file of hyperparameters\n",
    "        path = f'MaxValuesSets/MaxValues_{MVS_str}/Jobs_and_Machines_{MVS_str}/random_lists_{MVS_str}_{JS_str}.pickle'\n",
    "        with open(path, 'wb') as f:\n",
    "            pickle.dump((random_list_jobs, \n",
    "                         random_list_machines), \n",
    "                        f, pickle.HIGHEST_PROTOCOL)\n",
    "\n",
    "    return random_list_jobs, random_list_machines"
   ]
  },
  {
   "cell_type": "markdown",
   "id": "95bd9d22",
   "metadata": {},
   "source": [
    "### Generate random Hyperparameters, Jobs and Machines for single use"
   ]
  },
  {
   "cell_type": "markdown",
   "id": "64491f1a",
   "metadata": {},
   "source": [
    "The subsequent function uses the above to generate a random list of Jobs and Machines without using a file of saved hyperparameters, hence sampling temporary hyperparameters for every Job Scheduling Problem."
   ]
  },
  {
   "cell_type": "code",
   "execution_count": null,
   "id": "655fa5c2",
   "metadata": {},
   "outputs": [],
   "source": [
    "#randomly generate the maximum processing time and maximum initial machine occupation time\n",
    "def generate_random_environment():\n",
    "    \n",
    "    #set hyperparameters to global\n",
    "    global max_runtime, max_init_runtime\n",
    "    #sample processing time from the range of 33% up to 150% of the maximum deadline\n",
    "    max_runtime = random.randint(round(max_deadline/3),round(max_deadline*1.5))\n",
    "    #sample maximum initial machine occupation from the range of 33% up to 100% of the maximum processing time\n",
    "    max_init_runtime = random.randint(round(max_runtime/3), max_runtime)\n",
    "    \n",
    "    #use respective hyperparemeters and the above function to create lists of random jobs and machines\n",
    "    random_list_jobs, random_list_machines = generate_random_JS(\"\",\"\")\n",
    "    \n",
    "    return [max_runtime, max_init_runtime, random_list_jobs, random_list_machines]"
   ]
  }
 ],
 "metadata": {
  "kernelspec": {
   "display_name": "Python 3 (ipykernel)",
   "language": "python",
   "name": "python3"
  },
  "language_info": {
   "codemirror_mode": {
    "name": "ipython",
    "version": 3
   },
   "file_extension": ".py",
   "mimetype": "text/x-python",
   "name": "python",
   "nbconvert_exporter": "python",
   "pygments_lexer": "ipython3",
   "version": "3.10.5"
  }
 },
 "nbformat": 4,
 "nbformat_minor": 5
}
